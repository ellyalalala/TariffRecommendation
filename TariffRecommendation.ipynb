{
 "cells": [
  {
   "cell_type": "markdown",
   "metadata": {},
   "source": [
    "# Рекомендация тарифов"
   ]
  },
  {
   "cell_type": "markdown",
   "metadata": {},
   "source": [
    "В вашем распоряжении данные о поведении клиентов, которые уже перешли на эти тарифы (из проекта курса «Статистический анализ данных»). Нужно построить модель для задачи классификации, которая выберет подходящий тариф. Предобработка данных не понадобится — вы её уже сделали.\n",
    "\n",
    "Постройте модель с максимально большим значением *accuracy*. Чтобы сдать проект успешно, нужно довести долю правильных ответов по крайней мере до 0.75. Проверьте *accuracy* на тестовой выборке самостоятельно."
   ]
  },
  {
   "cell_type": "markdown",
   "metadata": {},
   "source": [
    "## Откройте и изучите файл"
   ]
  },
  {
   "cell_type": "code",
   "execution_count": null,
   "metadata": {},
   "outputs": [],
   "source": [
    "#библиотеки\n",
    "import pandas as pd\n",
    "from sklearn.ensemble import RandomForestClassifier\n",
    "import DecisionTreeRegressor\n",
    "from sklearn.linear_model import LogisticRegression\n",
    "from sklearn.metrics import accuracy_score\n",
    "from sklearn.metrics import mean_squared_error\n"
   ]
  },
  {
   "cell_type": "code",
   "execution_count": 2,
   "metadata": {},
   "outputs": [],
   "source": [
    "data = pd.read_csv('/datasets/users_behavior.csv')"
   ]
  },
  {
   "cell_type": "code",
   "execution_count": 3,
   "metadata": {},
   "outputs": [
    {
     "name": "stdout",
     "output_type": "stream",
     "text": [
      "<class 'pandas.core.frame.DataFrame'>\n",
      "RangeIndex: 3214 entries, 0 to 3213\n",
      "Data columns (total 5 columns):\n",
      " #   Column    Non-Null Count  Dtype  \n",
      "---  ------    --------------  -----  \n",
      " 0   calls     3214 non-null   float64\n",
      " 1   minutes   3214 non-null   float64\n",
      " 2   messages  3214 non-null   float64\n",
      " 3   mb_used   3214 non-null   float64\n",
      " 4   is_ultra  3214 non-null   int64  \n",
      "dtypes: float64(4), int64(1)\n",
      "memory usage: 125.7 KB\n"
     ]
    }
   ],
   "source": [
    "data.info()\n",
    "data.info()\n",
    "#пропусков нет"
   ]
  },
  {
   "cell_type": "code",
   "execution_count": 4,
   "metadata": {},
   "outputs": [
    {
     "data": {
      "text/html": [
       "<div>\n",
       "<style scoped>\n",
       "    .dataframe tbody tr th:only-of-type {\n",
       "        vertical-align: middle;\n",
       "    }\n",
       "\n",
       "    .dataframe tbody tr th {\n",
       "        vertical-align: top;\n",
       "    }\n",
       "\n",
       "    .dataframe thead th {\n",
       "        text-align: right;\n",
       "    }\n",
       "</style>\n",
       "<table border=\"1\" class=\"dataframe\">\n",
       "  <thead>\n",
       "    <tr style=\"text-align: right;\">\n",
       "      <th></th>\n",
       "      <th>calls</th>\n",
       "      <th>minutes</th>\n",
       "      <th>messages</th>\n",
       "      <th>mb_used</th>\n",
       "      <th>is_ultra</th>\n",
       "    </tr>\n",
       "  </thead>\n",
       "  <tbody>\n",
       "    <tr>\n",
       "      <th>0</th>\n",
       "      <td>40.0</td>\n",
       "      <td>311.90</td>\n",
       "      <td>83.0</td>\n",
       "      <td>19915.42</td>\n",
       "      <td>0</td>\n",
       "    </tr>\n",
       "    <tr>\n",
       "      <th>1</th>\n",
       "      <td>85.0</td>\n",
       "      <td>516.75</td>\n",
       "      <td>56.0</td>\n",
       "      <td>22696.96</td>\n",
       "      <td>0</td>\n",
       "    </tr>\n",
       "    <tr>\n",
       "      <th>2</th>\n",
       "      <td>77.0</td>\n",
       "      <td>467.66</td>\n",
       "      <td>86.0</td>\n",
       "      <td>21060.45</td>\n",
       "      <td>0</td>\n",
       "    </tr>\n",
       "    <tr>\n",
       "      <th>3</th>\n",
       "      <td>106.0</td>\n",
       "      <td>745.53</td>\n",
       "      <td>81.0</td>\n",
       "      <td>8437.39</td>\n",
       "      <td>1</td>\n",
       "    </tr>\n",
       "    <tr>\n",
       "      <th>4</th>\n",
       "      <td>66.0</td>\n",
       "      <td>418.74</td>\n",
       "      <td>1.0</td>\n",
       "      <td>14502.75</td>\n",
       "      <td>0</td>\n",
       "    </tr>\n",
       "  </tbody>\n",
       "</table>\n",
       "</div>"
      ],
      "text/plain": [
       "   calls  minutes  messages   mb_used  is_ultra\n",
       "0   40.0   311.90      83.0  19915.42         0\n",
       "1   85.0   516.75      56.0  22696.96         0\n",
       "2   77.0   467.66      86.0  21060.45         0\n",
       "3  106.0   745.53      81.0   8437.39         1\n",
       "4   66.0   418.74       1.0  14502.75         0"
      ]
     },
     "execution_count": 4,
     "metadata": {},
     "output_type": "execute_result"
    }
   ],
   "source": [
    "data.head()\n"
   ]
  },
  {
   "cell_type": "code",
   "execution_count": 5,
   "metadata": {},
   "outputs": [
    {
     "data": {
      "text/html": [
       "<div>\n",
       "<style scoped>\n",
       "    .dataframe tbody tr th:only-of-type {\n",
       "        vertical-align: middle;\n",
       "    }\n",
       "\n",
       "    .dataframe tbody tr th {\n",
       "        vertical-align: top;\n",
       "    }\n",
       "\n",
       "    .dataframe thead th {\n",
       "        text-align: right;\n",
       "    }\n",
       "</style>\n",
       "<table border=\"1\" class=\"dataframe\">\n",
       "  <thead>\n",
       "    <tr style=\"text-align: right;\">\n",
       "      <th></th>\n",
       "      <th>calls</th>\n",
       "      <th>minutes</th>\n",
       "      <th>messages</th>\n",
       "      <th>mb_used</th>\n",
       "      <th>is_ultra</th>\n",
       "    </tr>\n",
       "  </thead>\n",
       "  <tbody>\n",
       "    <tr>\n",
       "      <th>count</th>\n",
       "      <td>3214.000000</td>\n",
       "      <td>3214.000000</td>\n",
       "      <td>3214.000000</td>\n",
       "      <td>3214.000000</td>\n",
       "      <td>3214.000000</td>\n",
       "    </tr>\n",
       "    <tr>\n",
       "      <th>mean</th>\n",
       "      <td>63.038892</td>\n",
       "      <td>438.208787</td>\n",
       "      <td>38.281269</td>\n",
       "      <td>17207.673836</td>\n",
       "      <td>0.306472</td>\n",
       "    </tr>\n",
       "    <tr>\n",
       "      <th>std</th>\n",
       "      <td>33.236368</td>\n",
       "      <td>234.569872</td>\n",
       "      <td>36.148326</td>\n",
       "      <td>7570.968246</td>\n",
       "      <td>0.461100</td>\n",
       "    </tr>\n",
       "    <tr>\n",
       "      <th>min</th>\n",
       "      <td>0.000000</td>\n",
       "      <td>0.000000</td>\n",
       "      <td>0.000000</td>\n",
       "      <td>0.000000</td>\n",
       "      <td>0.000000</td>\n",
       "    </tr>\n",
       "    <tr>\n",
       "      <th>25%</th>\n",
       "      <td>40.000000</td>\n",
       "      <td>274.575000</td>\n",
       "      <td>9.000000</td>\n",
       "      <td>12491.902500</td>\n",
       "      <td>0.000000</td>\n",
       "    </tr>\n",
       "    <tr>\n",
       "      <th>50%</th>\n",
       "      <td>62.000000</td>\n",
       "      <td>430.600000</td>\n",
       "      <td>30.000000</td>\n",
       "      <td>16943.235000</td>\n",
       "      <td>0.000000</td>\n",
       "    </tr>\n",
       "    <tr>\n",
       "      <th>75%</th>\n",
       "      <td>82.000000</td>\n",
       "      <td>571.927500</td>\n",
       "      <td>57.000000</td>\n",
       "      <td>21424.700000</td>\n",
       "      <td>1.000000</td>\n",
       "    </tr>\n",
       "    <tr>\n",
       "      <th>max</th>\n",
       "      <td>244.000000</td>\n",
       "      <td>1632.060000</td>\n",
       "      <td>224.000000</td>\n",
       "      <td>49745.730000</td>\n",
       "      <td>1.000000</td>\n",
       "    </tr>\n",
       "  </tbody>\n",
       "</table>\n",
       "</div>"
      ],
      "text/plain": [
       "             calls      minutes     messages       mb_used     is_ultra\n",
       "count  3214.000000  3214.000000  3214.000000   3214.000000  3214.000000\n",
       "mean     63.038892   438.208787    38.281269  17207.673836     0.306472\n",
       "std      33.236368   234.569872    36.148326   7570.968246     0.461100\n",
       "min       0.000000     0.000000     0.000000      0.000000     0.000000\n",
       "25%      40.000000   274.575000     9.000000  12491.902500     0.000000\n",
       "50%      62.000000   430.600000    30.000000  16943.235000     0.000000\n",
       "75%      82.000000   571.927500    57.000000  21424.700000     1.000000\n",
       "max     244.000000  1632.060000   224.000000  49745.730000     1.000000"
      ]
     },
     "execution_count": 5,
     "metadata": {},
     "output_type": "execute_result"
    }
   ],
   "source": [
    "data.describe()"
   ]
  },
  {
   "cell_type": "markdown",
   "metadata": {},
   "source": [
    "<div class=\"alert alert-success\">\n",
    "<h2> Комментарий ревьюера <a class=\"tocSkip\"></a></h2>\n",
    "\n",
    "<b>Все отлично!👍:  </b> С данными познакомились, проведен первичный аналитический осмотр!) Полученная информация поможет нам в дальнейшем с предобработкой данных. \n",
    "        \n",
    "- Хочу тут затронуть термин мультиколлениарности, чтобы было представление о нем. В наших данных есть мультиколлинеарность в фичах calls и minutes. Желательно проверить это методом `.corr(method='spearman')`       \n",
    "        \n",
    "    В нашем проекте мы сосредоточены на предсказаниях, поэтому проблема мультиколлинеарности, если она и есть, для нас не страшна, на предсказаниях она не сказывается (она влияет на значения коэффициентов логистической регрессии `.coef_` (это, кстати, <a href=\"https://betterdatascience.com/feature-importance-python/\">о важности признаков</a>), для скоррелированных признаков они смещены, поэтому их интерпретация становится невозможной, но для нас сейчас это не имеет значения). \n",
    "- Рекомендую также тебе посмотреть метод `sns.pairplot` с параметром `hue`, в который мы передаем целевой признак.\n",
    "</div>\n",
    "        "
   ]
  },
  {
   "cell_type": "markdown",
   "metadata": {},
   "source": [
    "## Разбейте данные на выборки"
   ]
  },
  {
   "cell_type": "code",
   "execution_count": 6,
   "metadata": {},
   "outputs": [],
   "source": [
    "#признаки: calls, minutes, messages, mb_used\n",
    "#целевой признак: is_ultra\n",
    "features = data.drop('is_ultra', axis=1)\n",
    "target = data['is_ultra']"
   ]
  },
  {
   "cell_type": "code",
   "execution_count": 7,
   "metadata": {},
   "outputs": [],
   "source": [
    "#делим в соотношении 3:1:1\n",
    "#старое\n",
    "\n",
    "#features_train, features_others, target_train, target_others = train_test_split(\n",
    " #   features, target, test_size=0.2, random_state=12345)\n",
    "#features_test, features_valid, target_test, target_valid = train_test_split(\n",
    "  #  features, target, test_size=0.2, random_state=12345)\n"
   ]
  },
  {
   "cell_type": "code",
   "execution_count": 8,
   "metadata": {},
   "outputs": [],
   "source": [
    "data_train, data_other =train_test_split(\n",
    "    data, test_size=0.4, random_state=12345) \n",
    "data_test, data_valid = train_test_split(\n",
    "    data_other, test_size=0.5, random_state=12345)"
   ]
  },
  {
   "cell_type": "code",
   "execution_count": 9,
   "metadata": {},
   "outputs": [
    {
     "name": "stdout",
     "output_type": "stream",
     "text": [
      "1928\n",
      "643\n",
      "643\n"
     ]
    }
   ],
   "source": [
    "print(data_train.shape[0])\n",
    "print(data_test.shape[0])\n",
    "print(data_valid.shape[0])"
   ]
  },
  {
   "cell_type": "code",
   "execution_count": 10,
   "metadata": {},
   "outputs": [],
   "source": [
    "#или\n",
    "features_train, features_others, target_train, target_others = train_test_split(\n",
    "    features, target, test_size=0.4, random_state=12345)\n",
    "features_test, features_valid, target_test, target_valid = train_test_split(\n",
    "    features_others, target_others, test_size=0.5, random_state=12345)"
   ]
  },
  {
   "cell_type": "code",
   "execution_count": 11,
   "metadata": {},
   "outputs": [
    {
     "name": "stdout",
     "output_type": "stream",
     "text": [
      "1928\n",
      "643\n",
      "643\n"
     ]
    }
   ],
   "source": [
    "print(features_train.shape[0])\n",
    "print(features_test.shape[0])\n",
    "print(features_valid.shape[0])"
   ]
  },
  {
   "cell_type": "markdown",
   "metadata": {},
   "source": [
    "<br/>\n",
    "<div class=\"alert alert-block alert-danger\">\n",
    "<h2> Комментарий ревьюера v.2 <a class=\"tocSkip\"></h2>\n",
    "    \n",
    "<b>На доработку🤔:</b> Восстановил его\n",
    "    \n",
    "- Сейчас у тебя выборки пересекаются, т.к. они созданы из одной выборки df.        \n",
    "Исправь, пожалуйста.\n",
    "- Датасет следует разбить так, чтобы доля обучающей выборки была от 50% до 80%, а доля тестовой и валидационной выборки: от 10% до 25%. Одновременно, валидационная и тестовая выборки не должны отличаться по размеру в два раза или более. я бы рекомендовал придерживаться соотношения 60%-20%-20% (обучающая, валидационная, тестовая). Исправь, пожалуйста.    \n",
    " </div>"
   ]
  },
  {
   "cell_type": "markdown",
   "metadata": {},
   "source": [
    "<div class=\"alert alert-success\">\n",
    "<h2> Комментарий ревьюера v.2 <a class=\"tocSkip\"> </h2>\n",
    "\n",
    "<b>Все отлично!👍:</b> Исправлено"
   ]
  },
  {
   "cell_type": "markdown",
   "metadata": {},
   "source": [
    "## Исследуйте модели"
   ]
  },
  {
   "cell_type": "markdown",
   "metadata": {},
   "source": [
    "### Решающее дерево"
   ]
  },
  {
   "cell_type": "code",
   "execution_count": 12,
   "metadata": {},
   "outputs": [],
   "source": [
    "#находим accurracy\n",
    "#старое\n",
    "\n",
    "#best_model = None\n",
    "#best_result = 0\n",
    "#for depth in range(1, 11):\n",
    " #   model = DecisionTreeClassifier(random_state=12345, max_depth=depth) # обучите модель с заданной глубиной дерева\n",
    "  #  model.fit(features,target) # обучите модель\n",
    "  #  predictions = model.predict(features) # получите предсказания модели\n",
    "  #  result = accuracy_score(target, predictions) # посчитайте качество модели\n",
    "  #  if result > best_result:\n",
    "   #     best_model = model\n",
    "   #     best_result = result       \n",
    "#print(\"Accuracy лучшей модели:\", best_result)"
   ]
  },
  {
   "cell_type": "code",
   "execution_count": 13,
   "metadata": {},
   "outputs": [
    {
     "name": "stdout",
     "output_type": "stream",
     "text": [
      "(1928, 4)\n",
      "(1928,)\n",
      "(643, 4)\n",
      "(643,)\n"
     ]
    }
   ],
   "source": [
    "features_train = data_train.drop(['is_ultra'], axis=1)\n",
    "target_train = data_train['is_ultra']\n",
    "\n",
    "features_valid = data_valid.drop(['is_ultra'], axis=1)\n",
    "target_valid = data_valid['is_ultra']\n",
    "\n",
    "print(features_train.shape)\n",
    "print(target_train.shape)\n",
    "print(features_valid.shape)\n",
    "print(target_valid.shape)"
   ]
  },
  {
   "cell_type": "code",
   "execution_count": 14,
   "metadata": {},
   "outputs": [
    {
     "name": "stdout",
     "output_type": "stream",
     "text": [
      "Accuracy лучшей модели: 0.7993779160186625\n"
     ]
    }
   ],
   "source": [
    "best_model = None\n",
    "best_result = 0\n",
    "for depth in range(1, 11):\n",
    "    model = DecisionTreeClassifier(random_state=12345, max_depth=depth) # обучаем модель с заданной глубиной дерева\n",
    "    model.fit(features_train,target_train) # обучаем модель на тренировочной выборке\n",
    "    predictions_valid = model.predict(features_valid) # получаем предсказания модели на валидационной\n",
    "    result = accuracy_score(target_valid, predictions_valid) # считаем качество модели\n",
    "    if result > best_result:\n",
    "        best_model = model\n",
    "        best_result = result       \n",
    "print(\"Accuracy лучшей модели:\", best_result)"
   ]
  },
  {
   "cell_type": "markdown",
   "metadata": {},
   "source": [
    "<br/>\n",
    "<div class=\"alert alert-block alert-danger\">\n",
    "<h2> Комментарий ревьюера  <a class=\"tocSkip\"></h2>\n",
    "\n",
    "    \n",
    "<b>На доработку🤔:</b>\n",
    "    \n",
    "   \n",
    "- На тренировочной выборке мы обучаем модель, а на валидационной подбираем лучшие гиперпараметы \n",
    "    \n",
    "- Тестовую выборку мы используем как «слепую» выборку для определения качества на неизвестных ранее данных для ОДНОЙ лучшей модели - победителя (у нее самое высокое значение метрики accuracy на валидационной выборке). Тестовую выборку мы используем в самом конце в разделе «4. Проверьте качество модели на тестовой выборке.» \n"
   ]
  },
  {
   "cell_type": "markdown",
   "metadata": {},
   "source": [
    "<div class=\"alert alert-success\">\n",
    "<h2> Комментарий ревьюера v.2 <a class=\"tocSkip\"> </h2>\n",
    "\n",
    "<b>Все отлично!👍:</b> Вижу, хорошо"
   ]
  },
  {
   "cell_type": "code",
   "execution_count": 15,
   "metadata": {},
   "outputs": [
    {
     "name": "stdout",
     "output_type": "stream",
     "text": [
      "max_depth = 1 : 0.7356143079315708\n",
      "max_depth = 2 : 0.7744945567651633\n",
      "max_depth = 3 : 0.7791601866251944\n",
      "max_depth = 4 : 0.7744945567651633\n",
      "max_depth = 5 : 0.7838258164852255\n",
      "max_depth = 6 : 0.776049766718507\n",
      "max_depth = 7 : 0.7993779160186625\n",
      "max_depth = 8 : 0.7931570762052877\n",
      "max_depth = 9 : 0.7807153965785381\n",
      "max_depth = 10 : 0.7884914463452566\n",
      "max_depth = 11 : 0.7744945567651633\n",
      "max_depth = 12 : 0.7807153965785381\n",
      "max_depth = 13 : 0.7713841368584758\n",
      "max_depth = 14 : 0.76049766718507\n",
      "max_depth = 15 : 0.7713841368584758\n",
      "max_depth = 16 : 0.749611197511664\n",
      "max_depth = 17 : 0.7480559875583204\n",
      "max_depth = 18 : 0.749611197511664\n",
      "max_depth = 19 : 0.7433903576982893\n"
     ]
    }
   ],
   "source": [
    "#находим accuracy по валидационной выборке\n",
    "data_train, data_valid = train_test_split(data, test_size=0.25, random_state=12345)\n",
    "for depth in range(1, 20):\n",
    "    model =  DecisionTreeClassifier(random_state=12345, max_depth=depth) \n",
    "    model.fit (features_train, target_train)\n",
    "   \n",
    "\n",
    "    predictions_valid =model.predict(features_valid) \n",
    "\n",
    "    print(\"max_depth =\", depth, \": \", end='') \n",
    "    print(accuracy_score(target_valid, predictions_valid)) "
   ]
  },
  {
   "cell_type": "markdown",
   "metadata": {},
   "source": [
    " 7 : 0.7993779160186625"
   ]
  },
  {
   "cell_type": "markdown",
   "metadata": {},
   "source": [
    "### Случайный лес"
   ]
  },
  {
   "cell_type": "code",
   "execution_count": 16,
   "metadata": {},
   "outputs": [],
   "source": [
    "#старое\n",
    "\n",
    "#best_model = None\n",
    "#best_result = 0\n",
    "#for est in range(1, 50):\n",
    " #   model = RandomForestClassifier(random_state=12345, n_estimators=est) \n",
    "   \n",
    "  #  model.fit(features,target)\n",
    "  #  predictions = model.predict(features) \n",
    "   # result = accuracy_score(target, predictions) \n",
    "   # if result > best_result:\n",
    "   #     best_model = model\n",
    "    #    best_result = result       \n",
    "#print(\"Accuracy лучшей модели:\", best_result)"
   ]
  },
  {
   "cell_type": "code",
   "execution_count": 17,
   "metadata": {},
   "outputs": [
    {
     "name": "stdout",
     "output_type": "stream",
     "text": [
      "Accuracy лучшей модели: 0.7962674961119751\n"
     ]
    }
   ],
   "source": [
    "best_model = None\n",
    "best_result = 0\n",
    "for est in range(10, 100):\n",
    "    model = RandomForestClassifier(random_state=12345, n_estimators=est) \n",
    "   \n",
    "    model.fit (features_train, target_train)\n",
    "   \n",
    "\n",
    "    predictions_valid =model.predict(features_valid) \n",
    "    result = accuracy_score(target_valid, predictions_valid) \n",
    "    if result > best_result:\n",
    "        best_model = model\n",
    "        best_result = result       \n",
    "print(\"Accuracy лучшей модели:\", best_result)"
   ]
  },
  {
   "cell_type": "code",
   "execution_count": 18,
   "metadata": {
    "scrolled": true
   },
   "outputs": [],
   "source": [
    "#какой из вариантов будет более корректен? Номер 1\n",
    "\n",
    "\n",
    "\n",
    "\n",
    "#for depth in range(10, 100):\n",
    "  #  model =  RandomForestClassifier(random_state=12345, max_depth=depth) \n",
    "  #  model.fit (features_train, target_train)\n",
    "   \n",
    "  #  predictions_valid = model.predict(features_valid) \n",
    "\n",
    "   # print(\"max_depth =\", depth, \": \", end='') \n",
    "   # print(accuracy_score(target_valid, predictions_valid)) \n",
    "    \n",
    "  "
   ]
  },
  {
   "cell_type": "code",
   "execution_count": 19,
   "metadata": {
    "scrolled": true
   },
   "outputs": [
    {
     "name": "stdout",
     "output_type": "stream",
     "text": [
      "Деревья 10 Accuracy 0.7807153965785381\n",
      "Деревья 20 Accuracy 0.7822706065318819\n",
      "Деревья 30 Accuracy 0.7853810264385692\n",
      "Деревья 40 Accuracy 0.7931570762052877\n",
      "Деревья 50 Accuracy 0.7931570762052877\n",
      "Деревья 60 Accuracy 0.7947122861586314\n",
      "Деревья 70 Accuracy 0.7931570762052877\n",
      "Деревья 80 Accuracy 0.7962674961119751\n",
      "Деревья 90 Accuracy 0.7916018662519441\n",
      "Деревья 100 Accuracy 0.7853810264385692\n",
      "Деревья 110 Accuracy 0.7900466562986003\n",
      "Деревья 120 Accuracy 0.7853810264385692\n",
      "Деревья 130 Accuracy 0.7869362363919129\n",
      "Деревья 140 Accuracy 0.7869362363919129\n",
      "Деревья 150 Accuracy 0.7884914463452566\n",
      "Деревья 160 Accuracy 0.7931570762052877\n",
      "Деревья 170 Accuracy 0.7869362363919129\n",
      "Деревья 180 Accuracy 0.7884914463452566\n",
      "Деревья 190 Accuracy 0.7869362363919129\n",
      "Лучшее 80 Accuracy 0.7962674961119751\n"
     ]
    }
   ],
   "source": [
    "#номер 2\n",
    "\n",
    "\n",
    "best_est = 0\n",
    "best_accuracy = 0\n",
    "\n",
    "for est in range(10, 200, 10):\n",
    "    model = RandomForestClassifier(random_state=12345, n_estimators=est)\n",
    "    model.fit(features_train, target_train)\n",
    "    predictions_valid = model.predict(features_valid)\n",
    "    accuracy = accuracy_score(target_valid, predictions_valid)\n",
    "    print('Деревья', est,'Accuracy',accuracy)\n",
    "    if accuracy > best_accuracy:\n",
    "        best_est = est\n",
    "        best_accuracy = accuracy\n",
    "\n",
    "print('Лучшее', best_est,'Accuracy', best_accuracy)  "
   ]
  },
  {
   "cell_type": "markdown",
   "metadata": {},
   "source": [
    "80 Accuracy 0.7962674961119751"
   ]
  },
  {
   "cell_type": "markdown",
   "metadata": {},
   "source": [
    "<div class=\"alert alert-warning\">\n",
    "    <h2> Комментарий ревьюера <a class=\"tocSkip\"> </h2>\n",
    "    \n",
    "<b>Некоторые замечания и рекомендации💡:</b>\n",
    "    \n",
    "\n",
    "Лес из одного дерева - странная штука) Желательно выбирать количество деревьев побольше и больший шаг при переборе.\n",
    "        \n",
    "Советую сделать разбег в 10 деревьев, начинать с 10 штук, максимум 200 - 500. \n",
    "       \n",
    " </div>"
   ]
  },
  {
   "cell_type": "markdown",
   "metadata": {},
   "source": [
    "<div class=\"alert alert-warning\">\n",
    "    <h2> Комментарий ревьюера v.2 <a class=\"tocSkip\"> </h2>\n",
    "    \n",
    "<b>Некоторые замечания и рекомендации💡:</b> \n",
    "        \n",
    "Оба варианта не совсем правильные:\n",
    "- не стоит перебирать глубину дерева max_depth больше, чем 10, как правило начинается переобучение        \n",
    "        \n",
    "- для числа деревьев n_estimators можно было задать range (10, 200, 10).  \n",
    "-  строка `data_train, data_valid = train_test_split(data, test_size=0.25, random_state=12345)` тут излишняя и ее стоит удалить       "
   ]
  },
  {
   "cell_type": "markdown",
   "metadata": {},
   "source": [
    "### Логистическая регрессия"
   ]
  },
  {
   "cell_type": "code",
   "execution_count": 20,
   "metadata": {},
   "outputs": [
    {
     "name": "stdout",
     "output_type": "stream",
     "text": [
      "Accuracy лучшей модели: 0.6842923794712286\n"
     ]
    }
   ],
   "source": [
    "\n",
    "best_model = None\n",
    "best_result = 0\n",
    "for est in range(1, 100):\n",
    "    model = LogisticRegression(random_state=12345, solver='lbfgs', max_iter=1000) \n",
    "   \n",
    "    model.fit(features_train,target_train) \n",
    "    \n",
    "    predictions_valid = model.predict(features_valid) \n",
    "    result = accuracy_score(target_valid, predictions_valid) \n",
    "    if result > best_result:\n",
    "        best_model = model\n",
    "        best_result = result       \n",
    "print(\"Accuracy лучшей модели:\", best_result)\n"
   ]
  },
  {
   "cell_type": "code",
   "execution_count": 21,
   "metadata": {},
   "outputs": [
    {
     "name": "stdout",
     "output_type": "stream",
     "text": [
      "max_depth = 1 : 0.6842923794712286\n",
      "max_depth = 2 : 0.6842923794712286\n",
      "max_depth = 3 : 0.6842923794712286\n",
      "max_depth = 4 : 0.6842923794712286\n",
      "max_depth = 5 : 0.6842923794712286\n",
      "max_depth = 6 : 0.6842923794712286\n",
      "max_depth = 7 : 0.6842923794712286\n",
      "max_depth = 8 : 0.6842923794712286\n",
      "max_depth = 9 : 0.6842923794712286\n",
      "max_depth = 10 : 0.6842923794712286\n",
      "max_depth = 11 : 0.6842923794712286\n",
      "max_depth = 12 : 0.6842923794712286\n",
      "max_depth = 13 : 0.6842923794712286\n",
      "max_depth = 14 : 0.6842923794712286\n",
      "max_depth = 15 : 0.6842923794712286\n",
      "max_depth = 16 : 0.6842923794712286\n",
      "max_depth = 17 : 0.6842923794712286\n",
      "max_depth = 18 : 0.6842923794712286\n",
      "max_depth = 19 : 0.6842923794712286\n"
     ]
    }
   ],
   "source": [
    "data_train, data_valid = train_test_split(data, test_size=0.25, random_state=12345)\n",
    "\n",
    "\n",
    "\n",
    "for depth in range(1, 20):\n",
    "    model = LogisticRegression(random_state=12345, solver='lbfgs', max_iter=1000) \n",
    "    model.fit (features_train, target_train)\n",
    "   \n",
    "\n",
    "    predictions_valid = model.predict(features_valid) \n",
    "\n",
    "    print(\"max_depth =\", depth, \": \", end='') \n",
    "    print(accuracy_score(target_valid, predictions_valid)) "
   ]
  },
  {
   "cell_type": "markdown",
   "metadata": {},
   "source": [
    "**Вывод**\n",
    "\n",
    "В ходе исследования были получены следующие данные:\n",
    "\n",
    "Accuracy лучшей модели решающего дерева:  0.7993779160186625\n",
    "\n",
    "Accuracy лучшей модели случайного леса: 0.7962674961119751\n",
    "\n",
    "Accuracy лучшей модели логистической регрессии: 0.6842923794712286\n",
    "\n",
    "Лучший результат показывает решающее дерево. Не сильно отстает случайный лес. Хуже всего себя показал метод логистической регрессии.\n",
    "\n"
   ]
  },
  {
   "cell_type": "markdown",
   "metadata": {},
   "source": [
    "<div class=\"alert alert-success\">\n",
    "<h2> Комментарий ревьюера <a class=\"tocSkip\"></a></h2>\n",
    "\n",
    "<b>Все отлично!👍:</b>\n",
    "\n",
    "В остальном, имеются корректные шаги в исследовании моделей:\n",
    "    \n",
    " - исследовано более 5 значений гиперпараметра\n",
    "\n",
    " - перебор гиперпараметров осуществляется в цикле \n",
    "    \n",
    "</div>"
   ]
  },
  {
   "cell_type": "markdown",
   "metadata": {},
   "source": [
    "<br/>\n",
    "<div class=\"alert alert-block alert-danger\">\n",
    "<h2> Комментарий ревьюера <a class=\"tocSkip\"></h2>\n",
    "    \n",
    "<b>На доработку🤔:</b>\n",
    "    \n",
    "Тут следует еще указать, какие модели работают лучше, а какие — хуже.\n",
    "Добавь, пожалуйста.\n",
    " </div>"
   ]
  },
  {
   "cell_type": "markdown",
   "metadata": {},
   "source": [
    "<div class=\"alert alert-success\">\n",
    "<h2> Комментарий ревьюера v.2 <a class=\"tocSkip\"> </h2>\n",
    "\n",
    "<b>Все отлично!👍:</b> Вижу, хорошо"
   ]
  },
  {
   "cell_type": "markdown",
   "metadata": {},
   "source": [
    "## Проверьте модель на тестовой выборке"
   ]
  },
  {
   "cell_type": "code",
   "execution_count": 22,
   "metadata": {},
   "outputs": [],
   "source": [
    "#Решающее дерево\n",
    "# старое\n",
    "#best_model = None\n",
    "#best_result = 0\n",
    "#for depth in range(1, 11):\n",
    "   # model = DecisionTreeClassifier(random_state=12345, max_depth=depth) \n",
    "  #  model.fit(features,target) \n",
    "   # predictions_test = model.predict(features_test) \n",
    "   # result = accuracy_score(target_test, predictions_test) \n",
    "   # if result > best_result:\n",
    "    #    best_model = model\n",
    "    #    best_result = result       \n",
    "#print(\"Accuracy лучшей модели:\", best_result)"
   ]
  },
  {
   "cell_type": "code",
   "execution_count": 23,
   "metadata": {},
   "outputs": [
    {
     "name": "stdout",
     "output_type": "stream",
     "text": [
      "Точность модели на тестовой выборке: 0.7822706065318819\n"
     ]
    }
   ],
   "source": [
    "#исправленная\n",
    "model_wood = DecisionTreeClassifier(random_state=12345, max_depth=7) # обучили модель по дереву с глубиной максимальной acc (7)\n",
    "\n",
    "model_wood.fit(features_train,target_train) # обучили на обучающей\n",
    "predictions = model_wood.predict(features_test) #предсказали на тестовой\n",
    "accuracy = accuracy_score(predictions, target_test) # считаем на предсказании + тестовой \n",
    "print('Точность модели на тестовой выборке:', accuracy) "
   ]
  },
  {
   "cell_type": "markdown",
   "metadata": {},
   "source": [
    "<br/>\n",
    "<div class=\"alert alert-block alert-danger\">\n",
    "<h2> Комментарий ревьюера <a class=\"tocSkip\"></h2>\n",
    "\n",
    "    \n",
    "<b>На доработку🤔:</b>\n",
    "    \n",
    "Некорректно как-либо использовать тестовую выборку в подборе гиперпараметров или в выборе модели, а также обучать модель на тестовых данных. Нам следует обучить модель на обучающей выборке и  сделать предсказание методом `predict` на тестовой выборке для ОДНОЙ лучшей модели - победителя с предыдущего шага и рассчитать итоговую метрику. Исправь, пожалуйста.\n",
    "</div>"
   ]
  },
  {
   "cell_type": "markdown",
   "metadata": {},
   "source": [
    "<br/>\n",
    "<div class=\"alert alert-block alert-danger\">\n",
    "<h2> Комментарий ревьюера v.2 <a class=\"tocSkip\"></h2>\n",
    "\n",
    "    \n",
    "<b>На доработку🤔:</b>\n",
    "    \n",
    "Некорректно как-либо использовать тестовую выборку в подборе гиперпараметров, а также обучать модель на полном датасете. Нам следует обучить модель на обучающей выборке и  сделать предсказание методом `predict` на тестовой выборке для ОДНОЙ лучшей модели - победителя с предыдущего шага и рассчитать итоговую метрику. Исправь, пожалуйста.\n",
    "</div>"
   ]
  },
  {
   "cell_type": "markdown",
   "metadata": {},
   "source": [
    "<div class=\"alert alert-success\">\n",
    "<h2> Комментарий ревьюера v.3 <a class=\"tocSkip\"> </h2>\n",
    "\n",
    "<b>Все отлично!👍:</b>  Теперь все четко)"
   ]
  },
  {
   "cell_type": "code",
   "execution_count": 24,
   "metadata": {},
   "outputs": [],
   "source": [
    "#случайный лес\n",
    "#best_model = None\n",
    "#best_result = 0\n",
    "#for est in range(10, 100):\n",
    "  #  model = RandomForestClassifier(random_state=12345, n_estimators=est) # обучите модель с заданным количеством деревьев\n",
    "   \n",
    "  #  model.fit(features_test,target_test) \n",
    "# обучите модель\n",
    "  #  predictions_test = model.predict(features_test) # получите предсказания модели\n",
    "  #  result = accuracy_score(target_test, predictions_test) # посчитайте качество модели\n",
    "  #  if result > best_result:\n",
    "     #   best_model = model\n",
    "    #    best_result = result       \n",
    "#print(\"Accuracy лучшей модели:\", best_result)"
   ]
  },
  {
   "cell_type": "code",
   "execution_count": 25,
   "metadata": {},
   "outputs": [],
   "source": [
    "\n",
    "# Логистичесская регрессия\n",
    "\n",
    "#best_model = None\n",
    "#best_result = 0\n",
    "#for est in range(1, 11):\n",
    " #   model = LogisticRegression(random_state=12345, solver='lbfgs', max_iter=1000) # обучите модель с заданным количеством деревьев\n",
    "   \n",
    "  #  model.fit(features_test,target_test) # обучите модель\n",
    " #   predictions_test = model.predict(features_test) # получите предсказания модели\n",
    "  #  result = accuracy_score(target_test, predictions_test) # посчитайте качество модели\n",
    " #   if result > best_result:\n",
    " #       best_model = model\n",
    " #      best_result = result       \n",
    "#print(\"Accuracy лучшей модели:\", best_result)"
   ]
  },
  {
   "cell_type": "markdown",
   "metadata": {},
   "source": [
    "**Вывод**\n",
    "\n",
    "Accuracy лучшей модели решающего дерева: 0.7822706065318819\n",
    "\n"
   ]
  },
  {
   "cell_type": "markdown",
   "metadata": {},
   "source": [
    "<div class=\"alert alert-warning\">\n",
    "    <h2> Комментарий ревьюера <a class=\"tocSkip\"> </h2>\n",
    "    \n",
    "<b>Некоторые замечания и рекомендации💡:</b>\n",
    "    \n",
    "Тестирование положено проводить для одной лучшей модели. На предыдущем шаге мы должны были настроить модели и выбрать одну наилучшую, опираясь на метрики данные заказчиком (это может быть качество, время обучения, скорость предсказания и т.д.). Тестированием мы моделируем работу модели на новых незнакомых ей данных, которые ни разу не использовались ни при тренировке, ни при валидации, и проверяем, не словили ли мы переобучение. А эти данные могут быть смещенными, с выбросами и т.д. То есть по таким данным некорректно заново переопределять модель-победитель.  Советую тебе статью, рассматривающую разные способы валидации моделей машинного обучения: https://towardsdatascience.com/validating-your-machine-learning-model-25b4c8643fb7\n",
    "        \n",
    "Метрики качества на тестовой выборке для всех моделей можно вычислить только с целью исследования их смещения относительно аналогичных метрик на валидационной выборке. Но это не означает, что модель-победитель должна выбираться исходя из сравнения метрик, полученных на тестовой выборке.        "
   ]
  },
  {
   "cell_type": "markdown",
   "metadata": {},
   "source": [
    "<div class=\"alert alert-success\">\n",
    "<h2> Комментарий ревьюера v.2 <a class=\"tocSkip\"> </h2>\n",
    "\n",
    "<b>Все отлично!👍:</b> Вижу, хорошо"
   ]
  },
  {
   "cell_type": "markdown",
   "metadata": {},
   "source": [
    "## (бонус) Проверьте модели на адекватность"
   ]
  },
  {
   "cell_type": "markdown",
   "metadata": {},
   "source": [
    "Не понимаю, что нужно сделать"
   ]
  },
  {
   "cell_type": "markdown",
   "metadata": {},
   "source": [
    "<div class=\"alert alert-success\">\n",
    "<h2> Комментарий ревьюера <a class=\"tocSkip\"> </h2>\n",
    "\n",
    "<b>Все отлично!👍:</b> \n",
    "    \n",
    "Этап тестирования рекомендуется дополнять введением в работу baseline модели. Сравнивая результаты более сложных моделей с самой наивной, мы можем делать выводы о том, насколько далеко они вообще продвинулись в качестве предсказаний. Иногда может случиться такое, что константная модель оказывается не сильно хуже по качеству. Это может говорить либо о том, что еще есть смысл продолжить поиски \"той самой\" модели, либо структура данных такова, что ничего лучше константоной в принципе не найти, тогда в использовании более сложных ресурсозатратных моделей нет особого смысла. Создавать константные модели можно либо вручную, либо воспользоваться готовым алгоритмом <a href='https://scikit-learn.org/stable/modules/generated/sklearn.dummy.DummyClassifier.html'>DummyClassifier</a> из пакета `sklearn`. В нашем случае подойдет модель DummyClassifier со стратегией `most_frequent`. Рекомендую также прочитать  <a href='https://progler.ru/blog/ml-klassifikatory-pustyshki-s-ispolzovaniem-sklearn'>статью</a>."
   ]
  },
  {
   "cell_type": "markdown",
   "metadata": {},
   "source": [
    "## Общий вывод\n",
    "\n",
    "Были проанализированы различные классификационные модели: Решающее дерево, Случайный лес, Логистическая регрессия.\n",
    "\n",
    "Каждая модель была обучена для различных сочетаний гиперпараметров; выведены наилучшие варианты для каждой модели.\n",
    "\n",
    "Наилучшая точность  была достигнута для модели Решающего дерева:\n",
    "\n",
    "Accuracy на валидационной выборке: 0.7993779160186625\n",
    "\n",
    "Accuracy на тестовой выборке: 0.7822706065318819\n",
    "\n",
    "Максимального значения точности (0.7993779160186625) модель достигает при max_depth=7."
   ]
  },
  {
   "cell_type": "markdown",
   "metadata": {},
   "source": [
    "<div style=\"border:solid Chocolate 2px; padding: 40px\">\n",
    "\n",
    "\n",
    "<h2> Итоговый комментарий ревьюера v.1 <a class=\"tocSkip\"> </h2>    \n",
    "    \n",
    "  \n",
    "У меня сложилось хорошее впечатление о проекте. Молодец! Изучены все параметры, построено несколько моделей классификации и оценено их качество. Осмысленная аналитика и дельная модельная работа - многое удалось как надо)\n",
    "    \n",
    "Отмечу отдельные положительные моменты проекта🙂:\n",
    "    \n",
    "- тебе удалось добиться очень хорошего качества, поздравляю!  \n",
    "- при обучении моделей использована валидационная выборка и подбор гиперпараметров.    \n",
    "    \n",
    "Есть несколько моментов всего, на которые стоит ещё раз взглянуть, я указал их в моих комментариях по ходу проекта - выборки и моделирование. Предлагаю тебе доработать проект по моим комментариям, чтобы довести его до совершенства.\n",
    "\n",
    "    \n",
    "Если будут вопросы, обращайся, с удовольствием на них отвечу.  \n",
    "</div>"
   ]
  },
  {
   "cell_type": "markdown",
   "metadata": {},
   "source": [
    "<div style=\"border:solid Chocolate 2px; padding: 40px\">\n",
    "\n",
    "\n",
    "<h2> Итоговый комментарий ревьюера v.2 <a class=\"tocSkip\"> </h2>    \n",
    "    \n",
    "  \n",
    "Есть несколько моментов всего, на которые стоит ещё раз взглянуть, я указал их в моих комментариях по ходу проекта - \n",
    "-  Некорректно как-либо использовать тестовую выборку в подборе гиперпараметров, а также обучать модель на полном датасете. Нам следует обучить модель на обучающей выборке и  сделать предсказание методом `predict` на тестовой выборке для ОДНОЙ лучшей модели - победителя с предыдущего шага и рассчитать итоговую метрику. Исправь, пожалуйста."
   ]
  },
  {
   "cell_type": "markdown",
   "metadata": {},
   "source": [
    "<div style=\"border:solid Chocolate 2px; padding: 40px\">\n",
    "\n",
    "\n",
    "<h2> Итоговый комментарий ревьюера v.3 <a class=\"tocSkip\"> </h2>    \n",
    "    \n",
    "     \n",
    "  \n",
    "Теперь почти идеально, молодец! Принимаю твой проект)\n",
    "    \n",
    "Могу посоветовать посмотреть видеоразбор <a href=\"https://www.youtube.com/watch?v=YTLDATQLK6w\">Как обучить модель по шагам в Data Science? Урок для начинающих на примере задачи регрессии</a>\n",
    "    \n",
    "- Рекомендую тебе ознакомиться со статьями по интерпретации предсказания моделей:  <a href=\"https://habr.com/ru/post/428213/\">SHAP</a>,   <a href=\"https://towardsdatascience.com/using-shap-values-to-explain-how-your-machine-learning-model-works-732b3f40e137\">+ еще ссылка</a>.           \n",
    "    \n",
    "    \n",
    "В этом проекте все шаги отработаны. С интересом читал твои размышления, код и выводы. Цель нашего проекта достигнута. Рад был тебе помочь)\n",
    "    \n",
    "\n",
    "  \n",
    "</div>"
   ]
  },
  {
   "cell_type": "code",
   "execution_count": null,
   "metadata": {},
   "outputs": [],
   "source": []
  },
  {
   "cell_type": "code",
   "execution_count": null,
   "metadata": {},
   "outputs": [],
   "source": []
  }
 ],
 "metadata": {
  "ExecuteTimeLog": [
   {
    "duration": 1115,
    "start_time": "2022-12-26T17:18:51.303Z"
   },
   {
    "duration": 64,
    "start_time": "2022-12-26T17:19:42.904Z"
   },
   {
    "duration": 12,
    "start_time": "2022-12-26T17:20:20.933Z"
   },
   {
    "duration": 17,
    "start_time": "2022-12-26T17:20:55.191Z"
   },
   {
    "duration": 136,
    "start_time": "2022-12-26T17:22:37.442Z"
   },
   {
    "duration": 22,
    "start_time": "2022-12-26T17:22:43.183Z"
   },
   {
    "duration": 3,
    "start_time": "2022-12-26T17:27:52.048Z"
   },
   {
    "duration": 6,
    "start_time": "2022-12-26T18:17:47.332Z"
   },
   {
    "duration": 6,
    "start_time": "2022-12-26T18:30:07.687Z"
   },
   {
    "duration": 3,
    "start_time": "2022-12-26T18:40:51.213Z"
   },
   {
    "duration": 13,
    "start_time": "2022-12-26T18:41:21.615Z"
   },
   {
    "duration": 3,
    "start_time": "2022-12-26T18:42:10.544Z"
   },
   {
    "duration": 34,
    "start_time": "2022-12-26T18:42:14.565Z"
   },
   {
    "duration": 2,
    "start_time": "2022-12-26T18:44:50.142Z"
   },
   {
    "duration": 12,
    "start_time": "2022-12-26T18:45:26.712Z"
   },
   {
    "duration": 4,
    "start_time": "2022-12-26T18:45:54.007Z"
   },
   {
    "duration": 5063,
    "start_time": "2022-12-26T18:45:57.343Z"
   },
   {
    "duration": 151,
    "start_time": "2022-12-26T18:48:51.339Z"
   },
   {
    "duration": 34,
    "start_time": "2022-12-26T18:49:25.080Z"
   },
   {
    "duration": 31,
    "start_time": "2022-12-26T18:49:45.546Z"
   },
   {
    "duration": 39,
    "start_time": "2022-12-26T18:50:36.118Z"
   },
   {
    "duration": 25,
    "start_time": "2022-12-26T18:51:01.339Z"
   },
   {
    "duration": 36,
    "start_time": "2022-12-26T18:52:13.939Z"
   },
   {
    "duration": 38,
    "start_time": "2022-12-26T18:55:28.700Z"
   },
   {
    "duration": 333,
    "start_time": "2022-12-26T18:55:40.931Z"
   },
   {
    "duration": 295,
    "start_time": "2022-12-26T19:03:30.966Z"
   },
   {
    "duration": 10866,
    "start_time": "2022-12-26T19:07:40.612Z"
   },
   {
    "duration": 964,
    "start_time": "2022-12-26T19:14:13.215Z"
   },
   {
    "duration": 2549,
    "start_time": "2022-12-26T19:14:55.457Z"
   },
   {
    "duration": 8908,
    "start_time": "2022-12-26T19:15:10.605Z"
   },
   {
    "duration": 197,
    "start_time": "2022-12-26T19:19:22.162Z"
   },
   {
    "duration": 6418,
    "start_time": "2022-12-26T19:19:49.627Z"
   },
   {
    "duration": 4,
    "start_time": "2022-12-26T19:21:12.812Z"
   },
   {
    "duration": 233,
    "start_time": "2022-12-26T19:23:00.534Z"
   },
   {
    "duration": 197,
    "start_time": "2022-12-26T19:23:26.986Z"
   },
   {
    "duration": 35,
    "start_time": "2022-12-26T19:27:10.107Z"
   },
   {
    "duration": 75,
    "start_time": "2022-12-26T19:28:12.791Z"
   },
   {
    "duration": 67,
    "start_time": "2022-12-26T19:28:29.112Z"
   },
   {
    "duration": 77,
    "start_time": "2022-12-26T19:28:52.190Z"
   },
   {
    "duration": 68,
    "start_time": "2022-12-26T19:31:28.205Z"
   },
   {
    "duration": 68,
    "start_time": "2022-12-26T19:31:54.561Z"
   },
   {
    "duration": 415,
    "start_time": "2022-12-26T19:32:07.021Z"
   },
   {
    "duration": 6544,
    "start_time": "2022-12-26T19:32:27.244Z"
   },
   {
    "duration": 6743,
    "start_time": "2022-12-26T19:34:35.864Z"
   },
   {
    "duration": 9324,
    "start_time": "2022-12-26T19:35:09.182Z"
   },
   {
    "duration": 196,
    "start_time": "2022-12-26T19:47:35.830Z"
   },
   {
    "duration": 211,
    "start_time": "2022-12-26T19:48:28.218Z"
   },
   {
    "duration": 10,
    "start_time": "2022-12-26T19:53:44.016Z"
   },
   {
    "duration": 13,
    "start_time": "2022-12-26T19:54:10.485Z"
   },
   {
    "duration": 745,
    "start_time": "2022-12-26T19:54:15.960Z"
   },
   {
    "duration": 11805,
    "start_time": "2022-12-26T19:54:38.506Z"
   },
   {
    "duration": 11155,
    "start_time": "2022-12-26T19:58:55.157Z"
   },
   {
    "duration": 32,
    "start_time": "2022-12-26T20:00:30.289Z"
   },
   {
    "duration": 342,
    "start_time": "2022-12-26T20:01:33.397Z"
   },
   {
    "duration": 35,
    "start_time": "2022-12-26T20:03:18.842Z"
   },
   {
    "duration": 69,
    "start_time": "2022-12-26T20:20:17.680Z"
   },
   {
    "duration": 3,
    "start_time": "2022-12-26T20:28:54.242Z"
   },
   {
    "duration": 27,
    "start_time": "2022-12-26T20:28:54.724Z"
   },
   {
    "duration": 10,
    "start_time": "2022-12-26T20:28:55.742Z"
   },
   {
    "duration": 10,
    "start_time": "2022-12-26T20:28:57.392Z"
   },
   {
    "duration": 20,
    "start_time": "2022-12-26T20:28:58.752Z"
   },
   {
    "duration": 3,
    "start_time": "2022-12-26T20:29:01.313Z"
   },
   {
    "duration": 6,
    "start_time": "2022-12-26T20:29:02.289Z"
   },
   {
    "duration": 42,
    "start_time": "2022-12-26T20:29:07.277Z"
   },
   {
    "duration": 204,
    "start_time": "2022-12-26T20:29:08.343Z"
   },
   {
    "duration": 380,
    "start_time": "2022-12-26T20:29:14.104Z"
   },
   {
    "duration": 6623,
    "start_time": "2022-12-26T20:29:15.412Z"
   },
   {
    "duration": 6000,
    "start_time": "2022-12-26T20:31:08.313Z"
   },
   {
    "duration": 16103,
    "start_time": "2022-12-26T20:31:38.811Z"
   },
   {
    "duration": 211,
    "start_time": "2022-12-26T20:31:54.917Z"
   },
   {
    "duration": 344,
    "start_time": "2022-12-26T20:31:55.130Z"
   },
   {
    "duration": 7130,
    "start_time": "2022-12-26T20:31:55.475Z"
   },
   {
    "duration": 95,
    "start_time": "2022-12-26T20:32:02.926Z"
   },
   {
    "duration": 97,
    "start_time": "2022-12-26T20:32:45.965Z"
   },
   {
    "duration": 205,
    "start_time": "2022-12-26T20:32:47.962Z"
   },
   {
    "duration": 392,
    "start_time": "2022-12-26T20:32:52.699Z"
   },
   {
    "duration": 6910,
    "start_time": "2022-12-26T20:32:55.121Z"
   },
   {
    "duration": 22075,
    "start_time": "2022-12-26T20:33:02.033Z"
   },
   {
    "duration": 18101,
    "start_time": "2022-12-26T20:33:24.114Z"
   },
   {
    "duration": 82,
    "start_time": "2022-12-26T20:34:02.411Z"
   },
   {
    "duration": 383,
    "start_time": "2022-12-26T20:34:07.369Z"
   },
   {
    "duration": 13100,
    "start_time": "2022-12-26T20:34:09.012Z"
   },
   {
    "duration": 100,
    "start_time": "2022-12-27T10:49:20.868Z"
   },
   {
    "duration": 1071,
    "start_time": "2022-12-27T10:49:31.407Z"
   },
   {
    "duration": 207,
    "start_time": "2022-12-27T10:49:32.480Z"
   },
   {
    "duration": 11,
    "start_time": "2022-12-27T10:49:32.736Z"
   },
   {
    "duration": 16,
    "start_time": "2022-12-27T10:49:33.240Z"
   },
   {
    "duration": 22,
    "start_time": "2022-12-27T10:49:33.912Z"
   },
   {
    "duration": 4,
    "start_time": "2022-12-27T10:49:35.701Z"
   },
   {
    "duration": 6,
    "start_time": "2022-12-27T10:49:36.599Z"
   },
   {
    "duration": 90,
    "start_time": "2022-12-27T10:49:37.471Z"
   },
   {
    "duration": 9,
    "start_time": "2022-12-27T10:49:38.443Z"
   },
   {
    "duration": 10,
    "start_time": "2022-12-27T10:49:53.400Z"
   },
   {
    "duration": 10,
    "start_time": "2022-12-27T11:13:10.837Z"
   },
   {
    "duration": 8,
    "start_time": "2022-12-27T11:14:43.995Z"
   },
   {
    "duration": 6,
    "start_time": "2022-12-27T11:15:11.040Z"
   },
   {
    "duration": 6,
    "start_time": "2022-12-27T11:17:03.149Z"
   },
   {
    "duration": 7,
    "start_time": "2022-12-27T11:20:13.245Z"
   },
   {
    "duration": 90,
    "start_time": "2022-12-27T11:21:23.750Z"
   },
   {
    "duration": 5,
    "start_time": "2022-12-27T11:22:21.995Z"
   },
   {
    "duration": 7,
    "start_time": "2022-12-27T11:23:24.396Z"
   },
   {
    "duration": 3,
    "start_time": "2022-12-27T11:26:18.246Z"
   },
   {
    "duration": 5,
    "start_time": "2022-12-27T11:26:42.074Z"
   },
   {
    "duration": 3,
    "start_time": "2022-12-27T11:26:44.106Z"
   },
   {
    "duration": 3,
    "start_time": "2022-12-27T11:27:32.455Z"
   },
   {
    "duration": 7,
    "start_time": "2022-12-27T11:27:48.445Z"
   },
   {
    "duration": 3,
    "start_time": "2022-12-27T11:27:50.190Z"
   },
   {
    "duration": 5,
    "start_time": "2022-12-27T11:28:02.954Z"
   },
   {
    "duration": 4,
    "start_time": "2022-12-27T11:28:04.063Z"
   },
   {
    "duration": 6,
    "start_time": "2022-12-27T11:28:25.394Z"
   },
   {
    "duration": 3,
    "start_time": "2022-12-27T11:28:25.997Z"
   },
   {
    "duration": 93,
    "start_time": "2022-12-27T11:39:31.897Z"
   },
   {
    "duration": 29673,
    "start_time": "2022-12-27T11:40:49.688Z"
   },
   {
    "duration": 354,
    "start_time": "2022-12-27T11:41:49.138Z"
   },
   {
    "duration": 17,
    "start_time": "2022-12-27T11:50:00.885Z"
   },
   {
    "duration": 70,
    "start_time": "2022-12-27T11:50:36.584Z"
   },
   {
    "duration": 20,
    "start_time": "2022-12-27T11:52:58.240Z"
   },
   {
    "duration": 18,
    "start_time": "2022-12-27T11:53:10.057Z"
   },
   {
    "duration": 12,
    "start_time": "2022-12-27T12:08:29.902Z"
   },
   {
    "duration": 7,
    "start_time": "2022-12-27T12:08:37.840Z"
   },
   {
    "duration": 16,
    "start_time": "2022-12-27T12:08:47.247Z"
   },
   {
    "duration": 16,
    "start_time": "2022-12-27T12:11:08.885Z"
   },
   {
    "duration": 82,
    "start_time": "2022-12-27T12:14:43.757Z"
   },
   {
    "duration": 3,
    "start_time": "2022-12-27T12:16:40.795Z"
   },
   {
    "duration": 57,
    "start_time": "2022-12-27T12:16:48.661Z"
   },
   {
    "duration": 160,
    "start_time": "2022-12-27T12:17:21.417Z"
   },
   {
    "duration": 29902,
    "start_time": "2022-12-27T12:25:39.349Z"
   },
   {
    "duration": 32764,
    "start_time": "2022-12-27T12:26:31.517Z"
   },
   {
    "duration": 29387,
    "start_time": "2022-12-27T12:27:20.055Z"
   },
   {
    "duration": 7564,
    "start_time": "2022-12-27T12:28:17.864Z"
   },
   {
    "duration": 35256,
    "start_time": "2022-12-27T12:28:44.538Z"
   },
   {
    "duration": 34735,
    "start_time": "2022-12-27T12:29:28.922Z"
   },
   {
    "duration": 71,
    "start_time": "2022-12-27T12:31:34.314Z"
   },
   {
    "duration": 4389,
    "start_time": "2022-12-27T12:31:40.913Z"
   },
   {
    "duration": 17910,
    "start_time": "2022-12-27T12:32:00.079Z"
   },
   {
    "duration": 34295,
    "start_time": "2022-12-27T12:33:20.841Z"
   },
   {
    "duration": 196,
    "start_time": "2022-12-27T12:33:55.139Z"
   },
   {
    "duration": 214,
    "start_time": "2022-12-27T12:37:05.554Z"
   },
   {
    "duration": 158,
    "start_time": "2022-12-27T12:37:25.215Z"
   },
   {
    "duration": 170,
    "start_time": "2022-12-27T12:37:33.825Z"
   },
   {
    "duration": 33880,
    "start_time": "2022-12-27T12:37:53.861Z"
   },
   {
    "duration": 18,
    "start_time": "2022-12-27T12:40:40.878Z"
   },
   {
    "duration": 17953,
    "start_time": "2022-12-27T12:40:57.387Z"
   },
   {
    "duration": 17847,
    "start_time": "2022-12-27T12:44:48.507Z"
   },
   {
    "duration": 18641,
    "start_time": "2022-12-27T12:45:22.381Z"
   },
   {
    "duration": 17527,
    "start_time": "2022-12-27T12:45:53.247Z"
   },
   {
    "duration": 2,
    "start_time": "2022-12-27T12:46:58.943Z"
   },
   {
    "duration": 17845,
    "start_time": "2022-12-27T12:48:23.619Z"
   },
   {
    "duration": 18383,
    "start_time": "2022-12-27T12:49:12.342Z"
   },
   {
    "duration": 32405,
    "start_time": "2022-12-27T12:49:44.624Z"
   },
   {
    "duration": 18600,
    "start_time": "2022-12-27T12:50:50.517Z"
   },
   {
    "duration": 4697,
    "start_time": "2022-12-27T12:54:08.534Z"
   },
   {
    "duration": 4655,
    "start_time": "2022-12-27T12:54:14.673Z"
   },
   {
    "duration": 1559,
    "start_time": "2022-12-27T12:55:56.368Z"
   },
   {
    "duration": 416,
    "start_time": "2022-12-27T12:56:25.232Z"
   },
   {
    "duration": 16818,
    "start_time": "2022-12-27T12:56:57.313Z"
   },
   {
    "duration": 1674,
    "start_time": "2022-12-27T12:57:18.146Z"
   },
   {
    "duration": 9405,
    "start_time": "2022-12-27T12:58:01.988Z"
   },
   {
    "duration": 26650,
    "start_time": "2022-12-27T12:59:08.496Z"
   },
   {
    "duration": 43,
    "start_time": "2022-12-27T13:02:23.047Z"
   },
   {
    "duration": 84,
    "start_time": "2022-12-27T13:03:02.983Z"
   },
   {
    "duration": 94,
    "start_time": "2022-12-27T13:10:25.373Z"
   },
   {
    "duration": 89,
    "start_time": "2022-12-27T13:11:34.052Z"
   },
   {
    "duration": 4,
    "start_time": "2022-12-27T13:14:26.031Z"
   },
   {
    "duration": 2,
    "start_time": "2022-12-27T13:14:26.958Z"
   },
   {
    "duration": 5,
    "start_time": "2022-12-27T13:14:29.227Z"
   },
   {
    "duration": 4,
    "start_time": "2022-12-27T13:14:30.689Z"
   },
   {
    "duration": 6,
    "start_time": "2022-12-27T13:14:32.260Z"
   },
   {
    "duration": 5,
    "start_time": "2022-12-27T13:14:33.050Z"
   },
   {
    "duration": 4,
    "start_time": "2022-12-27T13:14:43.590Z"
   },
   {
    "duration": 3,
    "start_time": "2022-12-27T13:14:51.727Z"
   },
   {
    "duration": 9,
    "start_time": "2022-12-27T13:14:55.258Z"
   },
   {
    "duration": 67,
    "start_time": "2022-12-27T13:15:01.123Z"
   },
   {
    "duration": 224,
    "start_time": "2022-12-27T13:15:15.653Z"
   },
   {
    "duration": 3,
    "start_time": "2022-12-27T13:15:21.058Z"
   },
   {
    "duration": 17888,
    "start_time": "2022-12-27T13:15:29.748Z"
   },
   {
    "duration": 32551,
    "start_time": "2022-12-27T13:15:52.181Z"
   },
   {
    "duration": 18242,
    "start_time": "2022-12-27T13:16:24.735Z"
   },
   {
    "duration": 1891,
    "start_time": "2022-12-27T13:17:03.598Z"
   },
   {
    "duration": 1792,
    "start_time": "2022-12-27T13:17:15.934Z"
   },
   {
    "duration": 349,
    "start_time": "2022-12-27T13:17:24.267Z"
   },
   {
    "duration": 109,
    "start_time": "2022-12-27T13:19:54.442Z"
   },
   {
    "duration": 4,
    "start_time": "2022-12-27T13:19:57.938Z"
   },
   {
    "duration": 3,
    "start_time": "2022-12-27T13:19:58.590Z"
   },
   {
    "duration": 3993,
    "start_time": "2022-12-28T08:34:15.113Z"
   },
   {
    "duration": 75,
    "start_time": "2022-12-28T08:34:19.109Z"
   },
   {
    "duration": 13,
    "start_time": "2022-12-28T08:34:19.186Z"
   },
   {
    "duration": 79,
    "start_time": "2022-12-28T08:34:19.201Z"
   },
   {
    "duration": 97,
    "start_time": "2022-12-28T08:34:19.282Z"
   },
   {
    "duration": 97,
    "start_time": "2022-12-28T08:34:19.381Z"
   },
   {
    "duration": 7,
    "start_time": "2022-12-28T08:34:19.480Z"
   },
   {
    "duration": 88,
    "start_time": "2022-12-28T08:34:19.489Z"
   },
   {
    "duration": 5,
    "start_time": "2022-12-28T08:34:19.580Z"
   },
   {
    "duration": 90,
    "start_time": "2022-12-28T08:34:19.588Z"
   },
   {
    "duration": 4,
    "start_time": "2022-12-28T08:34:19.681Z"
   },
   {
    "duration": 13,
    "start_time": "2022-12-28T08:34:19.686Z"
   },
   {
    "duration": 80,
    "start_time": "2022-12-28T08:34:19.702Z"
   },
   {
    "duration": 307,
    "start_time": "2022-12-28T08:34:19.783Z"
   },
   {
    "duration": 994,
    "start_time": "2022-12-28T08:34:20.092Z"
   },
   {
    "duration": 3,
    "start_time": "2022-12-28T08:34:21.088Z"
   },
   {
    "duration": 52493,
    "start_time": "2022-12-28T08:34:21.093Z"
   },
   {
    "duration": 46290,
    "start_time": "2022-12-28T08:35:13.588Z"
   },
   {
    "duration": 20435,
    "start_time": "2022-12-28T08:35:59.880Z"
   },
   {
    "duration": 1865,
    "start_time": "2022-12-28T08:36:20.317Z"
   },
   {
    "duration": 396,
    "start_time": "2022-12-28T08:36:22.184Z"
   },
   {
    "duration": 97,
    "start_time": "2022-12-28T08:36:22.582Z"
   },
   {
    "duration": 3,
    "start_time": "2022-12-28T08:36:22.681Z"
   },
   {
    "duration": 9,
    "start_time": "2022-12-28T08:36:22.685Z"
   },
   {
    "duration": 51,
    "start_time": "2022-12-28T18:21:25.915Z"
   },
   {
    "duration": 1263,
    "start_time": "2022-12-28T18:21:56.312Z"
   },
   {
    "duration": 65,
    "start_time": "2022-12-28T18:21:57.577Z"
   },
   {
    "duration": 16,
    "start_time": "2022-12-28T18:21:57.644Z"
   },
   {
    "duration": 19,
    "start_time": "2022-12-28T18:21:58.053Z"
   },
   {
    "duration": 26,
    "start_time": "2022-12-28T18:21:58.484Z"
   },
   {
    "duration": 4,
    "start_time": "2022-12-28T18:21:59.354Z"
   },
   {
    "duration": 2,
    "start_time": "2022-12-28T18:22:01.612Z"
   },
   {
    "duration": 38,
    "start_time": "2022-12-28T18:22:01.617Z"
   },
   {
    "duration": 31,
    "start_time": "2022-12-28T18:22:01.657Z"
   },
   {
    "duration": 16,
    "start_time": "2022-12-28T18:22:01.690Z"
   },
   {
    "duration": 49,
    "start_time": "2022-12-28T18:22:01.709Z"
   },
   {
    "duration": 3,
    "start_time": "2022-12-28T18:22:05.018Z"
   },
   {
    "duration": 9,
    "start_time": "2022-12-28T18:22:05.533Z"
   },
   {
    "duration": 79,
    "start_time": "2022-12-28T18:22:05.977Z"
   },
   {
    "duration": 210,
    "start_time": "2022-12-28T18:22:08.626Z"
   },
   {
    "duration": 3,
    "start_time": "2022-12-28T18:22:10.499Z"
   },
   {
    "duration": 20666,
    "start_time": "2022-12-28T18:22:10.936Z"
   },
   {
    "duration": 39923,
    "start_time": "2022-12-28T18:22:31.605Z"
   },
   {
    "duration": 21258,
    "start_time": "2022-12-28T18:23:11.531Z"
   },
   {
    "duration": 2199,
    "start_time": "2022-12-28T18:23:32.792Z"
   },
   {
    "duration": 466,
    "start_time": "2022-12-28T18:23:34.993Z"
   },
   {
    "duration": 75,
    "start_time": "2022-12-28T18:23:35.563Z"
   },
   {
    "duration": 0,
    "start_time": "2022-12-28T18:23:35.651Z"
   },
   {
    "duration": 0,
    "start_time": "2022-12-28T18:23:35.653Z"
   },
   {
    "duration": 0,
    "start_time": "2022-12-28T18:23:35.654Z"
   },
   {
    "duration": 96,
    "start_time": "2022-12-28T18:23:50.969Z"
   },
   {
    "duration": 12,
    "start_time": "2022-12-28T18:23:53.494Z"
   },
   {
    "duration": 6,
    "start_time": "2022-12-28T18:24:01.104Z"
   },
   {
    "duration": 68,
    "start_time": "2022-12-28T18:29:17.533Z"
   },
   {
    "duration": 88,
    "start_time": "2022-12-28T18:29:46.333Z"
   },
   {
    "duration": 68,
    "start_time": "2022-12-28T18:29:59.839Z"
   },
   {
    "duration": 52,
    "start_time": "2022-12-28T18:30:18.738Z"
   },
   {
    "duration": 17,
    "start_time": "2022-12-28T18:31:12.564Z"
   },
   {
    "duration": 15,
    "start_time": "2022-12-28T18:31:20.384Z"
   },
   {
    "duration": 41,
    "start_time": "2022-12-28T18:32:27.504Z"
   },
   {
    "duration": 348,
    "start_time": "2022-12-28T18:32:52.445Z"
   },
   {
    "duration": 372,
    "start_time": "2022-12-28T18:34:18.876Z"
   },
   {
    "duration": 20,
    "start_time": "2022-12-28T18:42:47.967Z"
   },
   {
    "duration": 15,
    "start_time": "2022-12-28T18:43:08.017Z"
   },
   {
    "duration": 20,
    "start_time": "2022-12-28T18:44:30.225Z"
   },
   {
    "duration": 21048,
    "start_time": "2022-12-28T18:45:10.183Z"
   },
   {
    "duration": 17,
    "start_time": "2022-12-28T18:55:30.462Z"
   },
   {
    "duration": 74,
    "start_time": "2022-12-28T18:56:31.093Z"
   },
   {
    "duration": 13,
    "start_time": "2022-12-28T19:02:05.877Z"
   },
   {
    "duration": 17,
    "start_time": "2022-12-28T19:02:13.178Z"
   },
   {
    "duration": 17,
    "start_time": "2022-12-28T19:02:22.873Z"
   },
   {
    "duration": 15,
    "start_time": "2022-12-28T19:06:22.765Z"
   },
   {
    "duration": 13,
    "start_time": "2022-12-28T19:06:41.209Z"
   },
   {
    "duration": 13,
    "start_time": "2022-12-28T19:08:25.476Z"
   },
   {
    "duration": 13,
    "start_time": "2022-12-28T19:09:35.782Z"
   },
   {
    "duration": 16,
    "start_time": "2022-12-28T19:14:22.648Z"
   },
   {
    "duration": 15,
    "start_time": "2022-12-28T19:17:00.596Z"
   },
   {
    "duration": 14,
    "start_time": "2022-12-28T19:35:18.936Z"
   },
   {
    "duration": 4,
    "start_time": "2022-12-28T19:35:51.217Z"
   },
   {
    "duration": 13,
    "start_time": "2022-12-28T19:36:09.395Z"
   },
   {
    "duration": 38718,
    "start_time": "2022-12-28T19:37:41.434Z"
   },
   {
    "duration": 9041,
    "start_time": "2022-12-28T19:52:02.794Z"
   },
   {
    "duration": 4,
    "start_time": "2022-12-28T19:54:01.377Z"
   },
   {
    "duration": 5,
    "start_time": "2022-12-28T19:55:42.193Z"
   },
   {
    "duration": 30,
    "start_time": "2022-12-28T19:55:42.875Z"
   },
   {
    "duration": 11,
    "start_time": "2022-12-28T19:55:43.393Z"
   },
   {
    "duration": 11,
    "start_time": "2022-12-28T19:55:43.894Z"
   },
   {
    "duration": 25,
    "start_time": "2022-12-28T19:55:44.134Z"
   },
   {
    "duration": 4,
    "start_time": "2022-12-28T19:55:44.934Z"
   },
   {
    "duration": 2,
    "start_time": "2022-12-28T19:55:45.324Z"
   },
   {
    "duration": 7,
    "start_time": "2022-12-28T19:55:45.893Z"
   },
   {
    "duration": 7,
    "start_time": "2022-12-28T19:55:46.658Z"
   },
   {
    "duration": 8,
    "start_time": "2022-12-28T19:55:47.433Z"
   },
   {
    "duration": 4,
    "start_time": "2022-12-28T19:55:47.913Z"
   },
   {
    "duration": 3,
    "start_time": "2022-12-28T19:55:52.794Z"
   },
   {
    "duration": 8,
    "start_time": "2022-12-28T19:55:53.823Z"
   },
   {
    "duration": 77,
    "start_time": "2022-12-28T19:55:54.613Z"
   },
   {
    "duration": 189,
    "start_time": "2022-12-28T19:55:57.479Z"
   },
   {
    "duration": 3,
    "start_time": "2022-12-28T19:56:00.842Z"
   },
   {
    "duration": 3,
    "start_time": "2022-12-28T19:56:22.073Z"
   },
   {
    "duration": 20981,
    "start_time": "2022-12-28T19:56:22.077Z"
   },
   {
    "duration": 2281,
    "start_time": "2022-12-28T19:57:21.812Z"
   },
   {
    "duration": 479,
    "start_time": "2022-12-28T19:57:24.096Z"
   },
   {
    "duration": 3,
    "start_time": "2022-12-28T19:57:34.534Z"
   },
   {
    "duration": 17,
    "start_time": "2022-12-28T19:57:37.514Z"
   },
   {
    "duration": 8,
    "start_time": "2022-12-28T19:57:40.851Z"
   },
   {
    "duration": 2,
    "start_time": "2022-12-28T19:57:41.525Z"
   },
   {
    "duration": 2479,
    "start_time": "2022-12-29T18:12:05.050Z"
   },
   {
    "duration": 29,
    "start_time": "2022-12-29T18:12:07.531Z"
   },
   {
    "duration": 11,
    "start_time": "2022-12-29T18:12:07.561Z"
   },
   {
    "duration": 16,
    "start_time": "2022-12-29T18:12:07.620Z"
   },
   {
    "duration": 21,
    "start_time": "2022-12-29T18:12:07.637Z"
   },
   {
    "duration": 62,
    "start_time": "2022-12-29T18:12:07.660Z"
   },
   {
    "duration": 8,
    "start_time": "2022-12-29T18:12:07.724Z"
   },
   {
    "duration": 9,
    "start_time": "2022-12-29T18:12:07.733Z"
   },
   {
    "duration": 8,
    "start_time": "2022-12-29T18:12:07.743Z"
   },
   {
    "duration": 71,
    "start_time": "2022-12-29T18:12:07.754Z"
   },
   {
    "duration": 4,
    "start_time": "2022-12-29T18:12:07.827Z"
   },
   {
    "duration": 9,
    "start_time": "2022-12-29T18:12:07.833Z"
   },
   {
    "duration": 12,
    "start_time": "2022-12-29T18:12:07.843Z"
   },
   {
    "duration": 166,
    "start_time": "2022-12-29T18:12:07.856Z"
   },
   {
    "duration": 331,
    "start_time": "2022-12-29T18:12:08.024Z"
   },
   {
    "duration": 3,
    "start_time": "2022-12-29T18:12:08.357Z"
   },
   {
    "duration": 36482,
    "start_time": "2022-12-29T18:12:08.361Z"
   },
   {
    "duration": 3,
    "start_time": "2022-12-29T18:12:44.844Z"
   },
   {
    "duration": 14596,
    "start_time": "2022-12-29T18:12:44.849Z"
   },
   {
    "duration": 3881,
    "start_time": "2022-12-29T18:12:59.446Z"
   },
   {
    "duration": 837,
    "start_time": "2022-12-29T18:13:03.329Z"
   },
   {
    "duration": 3,
    "start_time": "2022-12-29T18:13:04.223Z"
   },
   {
    "duration": 27,
    "start_time": "2022-12-29T18:13:04.228Z"
   },
   {
    "duration": 3,
    "start_time": "2022-12-29T18:13:04.258Z"
   },
   {
    "duration": 60,
    "start_time": "2022-12-29T18:13:04.262Z"
   }
  ],
  "kernelspec": {
   "display_name": "Python 3 (ipykernel)",
   "language": "python",
   "name": "python3"
  },
  "language_info": {
   "codemirror_mode": {
    "name": "ipython",
    "version": 3
   },
   "file_extension": ".py",
   "mimetype": "text/x-python",
   "name": "python",
   "nbconvert_exporter": "python",
   "pygments_lexer": "ipython3",
   "version": "3.9.5"
  },
  "toc": {
   "base_numbering": 1,
   "nav_menu": {},
   "number_sections": true,
   "sideBar": true,
   "skip_h1_title": true,
   "title_cell": "Table of Contents",
   "title_sidebar": "Contents",
   "toc_cell": false,
   "toc_position": {
    "height": "calc(100% - 180px)",
    "left": "10px",
    "top": "150px",
    "width": "165px"
   },
   "toc_section_display": true,
   "toc_window_display": true
  }
 },
 "nbformat": 4,
 "nbformat_minor": 2
}
